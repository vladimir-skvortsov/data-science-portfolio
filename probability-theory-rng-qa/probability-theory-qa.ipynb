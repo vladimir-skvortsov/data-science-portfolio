{
 "cells": [
  {
   "cell_type": "code",
   "execution_count": 1,
   "metadata": {},
   "outputs": [],
   "source": [
    "import os\n",
    "from langchain.chat_models import ChatOpenAI\n",
    "from langchain.evaluation.qa import QAEvalChain\n",
    "from langchain_community.document_loaders import TextLoader\n",
    "from langchain.indexes import VectorstoreIndexCreator\n",
    "from langchain.vectorstores import DocArrayInMemorySearch\n",
    "from langchain.output_parsers.regex import RegexParser\n",
    "from langchain.chains import RetrievalQA\n",
    "from langchain_core.prompts import PromptTemplate\n",
    "from langchain.chains.llm import LLMChain\n",
    "from langchain.output_parsers.regex import RegexParser\n",
    "from dotenv import load_dotenv"
   ]
  },
  {
   "cell_type": "code",
   "execution_count": 2,
   "metadata": {},
   "outputs": [
    {
     "data": {
      "text/plain": [
       "True"
      ]
     },
     "execution_count": 2,
     "metadata": {},
     "output_type": "execute_result"
    }
   ],
   "source": [
    "load_dotenv()"
   ]
  },
  {
   "cell_type": "code",
   "execution_count": 3,
   "metadata": {},
   "outputs": [],
   "source": [
    "os.environ['OPENAI_API_KEY'] = os.getenv('OPENAI_API_KEY')"
   ]
  },
  {
   "cell_type": "code",
   "execution_count": 4,
   "metadata": {},
   "outputs": [
    {
     "data": {
      "text/plain": [
       "['./dataset/12.tex',\n",
       " './dataset/13.tex',\n",
       " './dataset/11.tex',\n",
       " './dataset/10.tex',\n",
       " './dataset/14.tex',\n",
       " './dataset/15.tex',\n",
       " './dataset/17.tex',\n",
       " './dataset/16.tex',\n",
       " './dataset/8.tex',\n",
       " './dataset/9.tex',\n",
       " './dataset/2.tex',\n",
       " './dataset/3.tex',\n",
       " './dataset/1.tex',\n",
       " './dataset/5.tex',\n",
       " './dataset/7.tex',\n",
       " './dataset/6.tex',\n",
       " './dataset/18.tex',\n",
       " './dataset/19.tex',\n",
       " './dataset/21.tex',\n",
       " './dataset/20.tex',\n",
       " './dataset/22.tex',\n",
       " './dataset/23.tex']"
      ]
     },
     "execution_count": 4,
     "metadata": {},
     "output_type": "execute_result"
    }
   ],
   "source": [
    "dataset_base_path = './dataset'\n",
    "paths = [os.path.join(dataset_base_path, filename) for filename in os.listdir(dataset_base_path)]\n",
    "paths"
   ]
  },
  {
   "cell_type": "code",
   "execution_count": 5,
   "metadata": {},
   "outputs": [
    {
     "data": {
      "text/plain": [
       "1"
      ]
     },
     "execution_count": 5,
     "metadata": {},
     "output_type": "execute_result"
    }
   ],
   "source": [
    "loader = TextLoader(paths[0])\n",
    "data = loader.load()\n",
    "len(data)"
   ]
  },
  {
   "cell_type": "code",
   "execution_count": 6,
   "metadata": {},
   "outputs": [
    {
     "name": "stderr",
     "output_type": "stream",
     "text": [
      "/opt/homebrew/Caskroom/miniconda/base/lib/python3.10/site-packages/langchain_core/_api/deprecation.py:117: LangChainDeprecationWarning: The class `langchain_community.embeddings.openai.OpenAIEmbeddings` was deprecated in langchain-community 0.0.9 and will be removed in 0.2.0. An updated version of the class exists in the langchain-openai package and should be used instead. To use it run `pip install -U langchain-openai` and import as `from langchain_openai import OpenAIEmbeddings`.\n",
      "  warn_deprecated(\n"
     ]
    }
   ],
   "source": [
    "index = VectorstoreIndexCreator(\n",
    "  vectorstore_cls=DocArrayInMemorySearch,\n",
    ").from_loaders([loader])"
   ]
  },
  {
   "cell_type": "code",
   "execution_count": 7,
   "metadata": {},
   "outputs": [
    {
     "name": "stderr",
     "output_type": "stream",
     "text": [
      "/opt/homebrew/Caskroom/miniconda/base/lib/python3.10/site-packages/langchain_core/_api/deprecation.py:117: LangChainDeprecationWarning: The class `langchain_community.chat_models.openai.ChatOpenAI` was deprecated in langchain-community 0.0.10 and will be removed in 0.2.0. An updated version of the class exists in the langchain-openai package and should be used instead. To use it run `pip install -U langchain-openai` and import as `from langchain_openai import ChatOpenAI`.\n",
      "  warn_deprecated(\n"
     ]
    }
   ],
   "source": [
    "llm_model = ChatOpenAI(temperature=0.0, model='gpt-3.5-turbo')"
   ]
  },
  {
   "cell_type": "code",
   "execution_count": 8,
   "metadata": {},
   "outputs": [],
   "source": [
    "llm = ChatOpenAI(model='gpt-3.5-turbo')\n",
    "template = \"\"\"Ты - учитель, которому предстоит составить вопросы для контрольной работы.\n",
    "Предоставив следующий документ, составь вопрос и ответ на основе этого документа.\n",
    "\n",
    "Пример формата:\n",
    "<Begin Document>\n",
    "...\n",
    "<End Document>\n",
    "ВОПРОС: здесь вопрос\n",
    "ОТВЕТ: здесь ответ\n",
    "\n",
    "Эти вопросы должны быть подробными и основываться непосредственно на информации, содержащейся в документе. Начинай!\n",
    "\n",
    "<Begin Document>\n",
    "{doc}\n",
    "<End Document>\"\"\"\n",
    "prompt = PromptTemplate(input_variables=['doc'], template=template)\n",
    "output_parser = RegexParser(\n",
    "  regex='ВОПРОС: (.*?)\\n+ОТВЕТ: ((.|\\n)*)',\n",
    "  output_keys=['query', 'answer'],\n",
    ")\n",
    "\n",
    "gen_chain = LLMChain(llm=llm, prompt=prompt, output_parser=output_parser)\n",
    "gen_chain.output_key = 'qa_pairs'"
   ]
  },
  {
   "cell_type": "code",
   "execution_count": 9,
   "metadata": {},
   "outputs": [
    {
     "name": "stderr",
     "output_type": "stream",
     "text": [
      "/opt/homebrew/Caskroom/miniconda/base/lib/python3.10/site-packages/langchain/chains/llm.py:344: UserWarning: The apply_and_parse method is deprecated, instead pass an output parser directly to LLMChain.\n",
      "  warnings.warn(\n"
     ]
    },
    {
     "data": {
      "text/plain": [
       "[{'query': 'Что такое распределение случайной величины? Как оно определяется и какие значения оно показывает?',\n",
       "  'answer': 'Распределением случайной величины $X$ называется вероятностная мера $\\\\\\\\mu_{X}$ на $\\\\\\\\mathcal{B}(\\\\\\\\mathbb{R})$, определяемая равенством $\\\\\\\\mu_{X}(B) = P(\\\\\\\\{\\\\\\\\omega \\\\\\\\mid X(\\\\\\\\omega) \\\\\\\\in B\\\\\\\\}) = P(X^{-1}(B))$. Это означает, что распределение показывает с какой вероятностью принимаются различные значения случайной величины $X$.\\n\\nВОПРОС: Что такое функция распределения случайной величины? Как она определяется?\\nОТВЕТ: Функция распределения случайной величины $X$, обозначаемая $F_{X}(t)$, определяется как $F_{X}(t) = \\\\\\\\mu_{X}((-\\\\\\\\infty, t]) = P(\\\\\\\\{\\\\\\\\omega \\\\\\\\mid X(\\\\\\\\omega) \\\\\\\\leqslant t\\\\\\\\})$. Эта функция показывает вероятность того, что случайная величина $X$ принимает значение не больше $t$.\\n\\nВОПРОС: Какие три основных свойства обладает функция распределения случайной величины?\\nОТВЕТ: Функция $F_{X}$ удовлетворяет следующим свойствам: 1) неубывание, то есть $F_{X}$ не убывает; 2) непрерывность справа; 3) пределы при $t$ стремящемся к $-\\\\\\\\infty$ и $+\\\\\\\\infty$ равны соответственно 0 и 1.\\n\\nВОПРОС: Как формулируется теорема о продолжении счетно аддитивной функции множества с алгебры на $\\\\\\\\sigma$-алгебру, порожденную исходной алгеброй?\\nОТВЕТ: Пусть $\\\\\\\\mathcal{A}_0$ - алгебра подмножеств пространства $\\\\\\\\Omega$ и $P_0 \\\\\\\\colon \\\\\\\\mathcal{A}_0 \\\\\\\\to [0, 1]$ - счетно аддитивная функция множества на алгебре $\\\\\\\\mathcal{A}_0$. Тогда существует единственная вероятностная мера $P$ на $\\\\\\\\sigma(\\\\\\\\mathcal{A}_0)$, продолжающая функцию $P_0$.\\n\\nВОПРОС: Как строится мера Лебега равномерного распределения на отрезке с борелевской $\\\\\\\\sigma$-алгеброй?\\nОТВЕТ: Мера Лебега равномерного распределения на отрезке представляет собой обычную длину, то есть $\\\\\\\\lambda([a, b]) = b - a$. Она строится путем рассмотрения алгебры конечных объединений попарно непересекающихся промежутков вида $(a, b] \\\\\\\\subset [0, 1]$ и одноточечного множества $\\\\\\\\{0\\\\\\\\}$, и задания меры Лебега для таких множеств.'}]"
      ]
     },
     "execution_count": 9,
     "metadata": {},
     "output_type": "execute_result"
    }
   ],
   "source": [
    "examples = gen_chain.apply_and_parse([{'doc': t} for t in data])\n",
    "examples = [t['qa_pairs'] for t in examples]\n",
    "examples"
   ]
  },
  {
   "cell_type": "code",
   "execution_count": 10,
   "metadata": {},
   "outputs": [],
   "source": [
    "latex_expression = examples[0]['answer'].replace('\\\\\\\\', '\\\\')\n",
    "\n",
    "import sympy\n",
    "\n",
    "preamble = '\\\\documentclass[varwidth]{standalone}' \\\n",
    "  '\\\\usepackage[english, russian]{babel}' \\\n",
    "  '\\\\usepackage{amsmath}' \\\n",
    "  '\\\\usepackage{amssymb}' \\\n",
    "  '\\\\begin{document}'\n",
    "\n",
    "sympy.preview(latex_expression, viewer='file', filename='answer.png', euler=False, dvioptions=[\"-T\", \"tight\", \"-z\", \"0\", \"--truecolor\", \"-D 600\"], preamble=preamble)"
   ]
  },
  {
   "cell_type": "code",
   "execution_count": 11,
   "metadata": {},
   "outputs": [],
   "source": [
    "llm = ChatOpenAI(temperature=0, model='gpt-3.5-turbo')\n",
    "qa = RetrievalQA.from_chain_type(\n",
    "  llm=llm,\n",
    "  chain_type='stuff',\n",
    "  retriever=index.vectorstore.as_retriever(),\n",
    "  verbose=True,\n",
    "  chain_type_kwargs = {\n",
    "    \"document_separator\": \"<<<<>>>>>\"\n",
    "  },\n",
    ")"
   ]
  },
  {
   "cell_type": "code",
   "execution_count": 12,
   "metadata": {},
   "outputs": [
    {
     "name": "stderr",
     "output_type": "stream",
     "text": [
      "/opt/homebrew/Caskroom/miniconda/base/lib/python3.10/site-packages/langchain_core/_api/deprecation.py:117: LangChainDeprecationWarning: The function `apply` was deprecated in LangChain 0.1.0 and will be removed in 0.2.0. Use batch instead.\n",
      "  warn_deprecated(\n"
     ]
    },
    {
     "name": "stdout",
     "output_type": "stream",
     "text": [
      "\n",
      "\n",
      "\u001b[1m> Entering new RetrievalQA chain...\u001b[0m\n",
      "\n",
      "\u001b[1m> Finished chain.\u001b[0m\n"
     ]
    }
   ],
   "source": [
    "predictions = qa.apply(examples)"
   ]
  },
  {
   "cell_type": "code",
   "execution_count": 13,
   "metadata": {},
   "outputs": [],
   "source": [
    "llm = ChatOpenAI(temperature=0, model='gpt-3.5-turbo')\n",
    "eval_chain = QAEvalChain.from_llm(llm)"
   ]
  },
  {
   "cell_type": "code",
   "execution_count": 14,
   "metadata": {},
   "outputs": [
    {
     "data": {
      "text/plain": [
       "[{'results': 'CORRECT'}]"
      ]
     },
     "execution_count": 14,
     "metadata": {},
     "output_type": "execute_result"
    }
   ],
   "source": [
    "graded_outputs = eval_chain.evaluate(examples, predictions)\n",
    "graded_outputs"
   ]
  },
  {
   "cell_type": "code",
   "execution_count": 15,
   "metadata": {},
   "outputs": [
    {
     "name": "stdout",
     "output_type": "stream",
     "text": [
      "Example 0:\n",
      "Question: Что такое распределение случайной величины? Как оно определяется и какие значения оно показывает?\n",
      "Real Answer: Распределением случайной величины $X$ называется вероятностная мера $\\\\mu_{X}$ на $\\\\mathcal{B}(\\\\mathbb{R})$, определяемая равенством $\\\\mu_{X}(B) = P(\\\\{\\\\omega \\\\mid X(\\\\omega) \\\\in B\\\\}) = P(X^{-1}(B))$. Это означает, что распределение показывает с какой вероятностью принимаются различные значения случайной величины $X$.\n",
      "\n",
      "ВОПРОС: Что такое функция распределения случайной величины? Как она определяется?\n",
      "ОТВЕТ: Функция распределения случайной величины $X$, обозначаемая $F_{X}(t)$, определяется как $F_{X}(t) = \\\\mu_{X}((-\\\\infty, t]) = P(\\\\{\\\\omega \\\\mid X(\\\\omega) \\\\leqslant t\\\\})$. Эта функция показывает вероятность того, что случайная величина $X$ принимает значение не больше $t$.\n",
      "\n",
      "ВОПРОС: Какие три основных свойства обладает функция распределения случайной величины?\n",
      "ОТВЕТ: Функция $F_{X}$ удовлетворяет следующим свойствам: 1) неубывание, то есть $F_{X}$ не убывает; 2) непрерывность справа; 3) пределы при $t$ стремящемся к $-\\\\infty$ и $+\\\\infty$ равны соответственно 0 и 1.\n",
      "\n",
      "ВОПРОС: Как формулируется теорема о продолжении счетно аддитивной функции множества с алгебры на $\\\\sigma$-алгебру, порожденную исходной алгеброй?\n",
      "ОТВЕТ: Пусть $\\\\mathcal{A}_0$ - алгебра подмножеств пространства $\\\\Omega$ и $P_0 \\\\colon \\\\mathcal{A}_0 \\\\to [0, 1]$ - счетно аддитивная функция множества на алгебре $\\\\mathcal{A}_0$. Тогда существует единственная вероятностная мера $P$ на $\\\\sigma(\\\\mathcal{A}_0)$, продолжающая функцию $P_0$.\n",
      "\n",
      "ВОПРОС: Как строится мера Лебега равномерного распределения на отрезке с борелевской $\\\\sigma$-алгеброй?\n",
      "ОТВЕТ: Мера Лебега равномерного распределения на отрезке представляет собой обычную длину, то есть $\\\\lambda([a, b]) = b - a$. Она строится путем рассмотрения алгебры конечных объединений попарно непересекающихся промежутков вида $(a, b] \\\\subset [0, 1]$ и одноточечного множества $\\\\{0\\\\}$, и задания меры Лебега для таких множеств.\n",
      "Predicted Answer: Распределением случайной величины называется вероятностная мера, которая показывает, с какой вероятностью случайная величина принимает определенные значения. Оно определяется как вероятностная мера на множестве значений случайной величины. То есть распределение случайной величины показывает, как вероятность распределения значений случайной величины по всем возможным значениям.\n",
      "Predicted Grade: CORRECT\n",
      "\n"
     ]
    }
   ],
   "source": [
    "for i, eg in enumerate(examples):\n",
    "  print(f'Example {i}:')\n",
    "  print('Question: ' + predictions[i]['query'])\n",
    "  print('Real Answer: ' + predictions[i]['answer'])\n",
    "  print('Predicted Answer: ' + predictions[i]['result'])\n",
    "  print('Predicted Grade: ' + graded_outputs[i]['results'])"
   ]
  },
  {
   "cell_type": "code",
   "execution_count": null,
   "metadata": {},
   "outputs": [],
   "source": []
  }
 ],
 "metadata": {
  "kernelspec": {
   "display_name": "base",
   "language": "python",
   "name": "python3"
  },
  "language_info": {
   "codemirror_mode": {
    "name": "ipython",
    "version": 3
   },
   "file_extension": ".py",
   "mimetype": "text/x-python",
   "name": "python",
   "nbconvert_exporter": "python",
   "pygments_lexer": "ipython3",
   "version": "3.10.13"
  }
 },
 "nbformat": 4,
 "nbformat_minor": 2
}
